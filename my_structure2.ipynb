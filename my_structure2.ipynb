{
  "nbformat": 4,
  "nbformat_minor": 0,
  "metadata": {
    "colab": {
      "provenance": [],
      "authorship_tag": "ABX9TyPskUVS/3YSLhbjfhjOIB/G",
      "include_colab_link": true
    },
    "kernelspec": {
      "name": "python3",
      "display_name": "Python 3"
    },
    "language_info": {
      "name": "python"
    }
  },
  "cells": [
    {
      "cell_type": "markdown",
      "metadata": {
        "id": "view-in-github",
        "colab_type": "text"
      },
      "source": [
        "<a href=\"https://colab.research.google.com/github/Timerlanmgs/structure_task/blob/main/my_structure2.ipynb\" target=\"_parent\"><img src=\"https://colab.research.google.com/assets/colab-badge.svg\" alt=\"Open In Colab\"/></a>"
      ]
    },
    {
      "cell_type": "code",
      "execution_count": 1,
      "metadata": {
        "colab": {
          "base_uri": "https://localhost:8080/"
        },
        "id": "s5t-AupNTSe5",
        "outputId": "72f401d2-e57d-45bc-83dd-a4f8d709aa0f"
      },
      "outputs": [
        {
          "output_type": "stream",
          "name": "stdout",
          "text": [
            "Введіть ПІП автора: Іваненко І.І.\n",
            "Python для початківців (2020)\n",
            "Машинне навчання (2022)\n"
          ]
        }
      ],
      "source": [
        "# Варіант 2: Використання класу\n",
        "\n",
        "class Book:\n",
        "    def __init__(self, author, title, year):\n",
        "        self.author = author\n",
        "        self.title = title\n",
        "        self.year = year\n",
        "\n",
        "books = [\n",
        "    Book(\"Іваненко І.І.\", \"Python для початківців\", 2020),\n",
        "    Book(\"Петренко П.П.\", \"Алгоритми в дії\", 2021),\n",
        "    Book(\"Іваненко І.І.\", \"Машинне навчання\", 2022)\n",
        "]\n",
        "\n",
        "author_input = input(\"Введіть ПІП автора: \")\n",
        "\n",
        "found_books = [book for book in books if book.author == author_input]\n",
        "\n",
        "if found_books:\n",
        "    for book in found_books:\n",
        "        print(f\"{book.title} ({book.year})\")\n",
        "else:\n",
        "    print(\"Книги цього автора не знайдено.\")"
      ]
    }
  ]
}