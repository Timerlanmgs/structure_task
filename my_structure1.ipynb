{
  "nbformat": 4,
  "nbformat_minor": 0,
  "metadata": {
    "colab": {
      "provenance": [],
      "authorship_tag": "ABX9TyMphhRBQ9Qx5n1kwpBujnJU",
      "include_colab_link": true
    },
    "kernelspec": {
      "name": "python3",
      "display_name": "Python 3"
    },
    "language_info": {
      "name": "python"
    }
  },
  "cells": [
    {
      "cell_type": "markdown",
      "metadata": {
        "id": "view-in-github",
        "colab_type": "text"
      },
      "source": [
        "<a href=\"https://colab.research.google.com/github/Timerlanmgs/structure_task/blob/main/my_structure1.ipynb\" target=\"_parent\"><img src=\"https://colab.research.google.com/assets/colab-badge.svg\" alt=\"Open In Colab\"/></a>"
      ]
    },
    {
      "cell_type": "code",
      "execution_count": 2,
      "metadata": {
        "colab": {
          "base_uri": "https://localhost:8080/"
        },
        "id": "jfUxtSH5PKL4",
        "outputId": "a64f9b2a-6b5a-4b09-baa7-1027fb929ae3"
      },
      "outputs": [
        {
          "output_type": "stream",
          "name": "stdout",
          "text": [
            "Введіть ПІП автора: Іваненко І.І.\n",
            "Python для початківців (2020)\n",
            "Машинне навчання (2022)\n"
          ]
        }
      ],
      "source": [
        "# Варіант 1: Використання словника\n",
        "\n",
        "books = [\n",
        "    {\"author\": \"Іваненко І.І.\", \"title\": \"Python для початківців\", \"year\": 2020},\n",
        "    {\"author\": \"Петренко П.П.\", \"title\": \"Алгоритми в дії\", \"year\": 2021},\n",
        "    {\"author\": \"Іваненко І.І.\", \"title\": \"Машинне навчання\", \"year\": 2022}\n",
        "]\n",
        "\n",
        "author_input = input(\"Введіть ПІП автора: \")\n",
        "\n",
        "found_books = [book for book in books if book[\"author\"] == author_input]\n",
        "\n",
        "if found_books:\n",
        "    for book in found_books:\n",
        "        print(f\"{book['title']} ({book['year']})\")\n",
        "else:\n",
        "    print(\"Книги цього автора не знайдено.\")"
      ]
    }
  ]
}